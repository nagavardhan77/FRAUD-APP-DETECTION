{
 "cells": [
  {
   "cell_type": "code",
   "execution_count": null,
   "metadata": {},
   "outputs": [],
   "source": [
    "import pandas as pd\n",
    "from sklearn.model_selection import train_test_split\n",
    "import sklearn.externals\n",
    "import joblib\n",
    "from sklearn.feature_extraction.text import CountVectorizer\n",
    "import pickle "
   ]
  },
  {
   "cell_type": "code",
   "execution_count": null,
   "metadata": {},
   "outputs": [],
   "source": [
    "df = pd.read_csv('training.csv')\n",
    "df.head()"
   ]
  },
  {
   "cell_type": "code",
   "execution_count": null,
   "metadata": {},
   "outputs": [],
   "source": [
    "def preprocess_data(df):\n",
    "        # Remove package name as it's not relevant\n",
    "        df = df.drop('package_name', axis=1)\n",
    "        # Convert text to lowercase\n",
    "        df['review'] = df['review'].str.strip().str.lower()\n",
    "        return df\n",
    "\n",
    "        df = preprocess_data(df)\n",
    "\n",
    "        x = df['review']\n",
    "        y = df['polarity']\n",
    "        x, x_test, y, y_test = train_test_split(x,y, stratify=y, test_size=0.25, random_state=42)\n",
    "\n",
    "        vec = CountVectorizer(stop_words='english')\n",
    "        x = vec.fit_transform(x).toarray()\n",
    "        x_test = vec.transform(x_test).toarray()\n",
    "\n",
    "        #Using naive_bayes to train model and classification\n",
    "        from sklearn.naive_bayes import MultinomialNB\n",
    "\n",
    "        model = MultinomialNB()\n",
    "        model.fit(x, y)\n",
    "\n",
    "        model.score(x_test, y_test)"
   ]
  }
 ],
 "metadata": {
  "kernelspec": {
   "display_name": "Python 3",
   "language": "python",
   "name": "python3"
  },
  "language_info": {
   "codemirror_mode": {
    "name": "ipython",
    "version": 3
   },
   "file_extension": ".py",
   "mimetype": "text/x-python",
   "name": "python",
   "nbconvert_exporter": "python",
   "pygments_lexer": "ipython3",
   "version": "3.7.6"
  }
 },
 "nbformat": 4,
 "nbformat_minor": 4
}
